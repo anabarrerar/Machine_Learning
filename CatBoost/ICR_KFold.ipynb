{
  "nbformat": 4,
  "nbformat_minor": 0,
  "metadata": {
    "colab": {
      "provenance": [],
      "collapsed_sections": [
        "P2oAFj08t-Tu",
        "XYK3eUeO9TST",
        "o7-qhe9C9cs9",
        "vaWF-GOA_aOs",
        "iOCPMnwqpevI"
      ],
      "gpuType": "T4",
      "authorship_tag": "ABX9TyP79BPjOgCYF56RkPWCt4DL",
      "include_colab_link": true
    },
    "kernelspec": {
      "name": "python3",
      "display_name": "Python 3"
    },
    "language_info": {
      "name": "python"
    },
    "gpuClass": "standard"
  },
  "cells": [
    {
      "cell_type": "markdown",
      "metadata": {
        "id": "view-in-github",
        "colab_type": "text"
      },
      "source": [
        "<a href=\"https://colab.research.google.com/github/anabarrerar/Machine_Learning/blob/main/CatBoost/ICR_KFold.ipynb\" target=\"_parent\"><img src=\"https://colab.research.google.com/assets/colab-badge.svg\" alt=\"Open In Colab\"/></a>"
      ]
    },
    {
      "cell_type": "markdown",
      "source": [
        "# Description"
      ],
      "metadata": {
        "id": "iOCPMnwqpevI"
      }
    },
    {
      "cell_type": "markdown",
      "source": [
        "The goal of this project is to predict if a person has one or more of any of three medical conditions (Class 1), or none of the three medical conditions (Class 0). \n",
        "\n",
        "To determine if someone has these medical conditions requires a long and intrusive process to collect information from patients. With predictive models, we can shorten this process and keep patient details private by collecting key characteristics relative to the conditions, then encoding these characteristics.\n",
        "\n",
        "This project will help researchers discover the relationship between measurements of certain characteristics and potential patient conditions.\n",
        "\n"
      ],
      "metadata": {
        "id": "c6PJ5kNVoi0-"
      }
    },
    {
      "cell_type": "markdown",
      "source": [
        "**Dataset Description**\n",
        "\n",
        "The competition data comprises over fifty anonymized health characteristics linked to three age-related conditions. Your goal is to predict whether a subject has or has not been diagnosed with one of these conditions -- a binary classification problem.\n",
        "\n",
        "\n",
        "\n",
        "**train.csv - The training set** 617 rows, 58 columns\n",
        "* `Id:` Unique identifier for each observation.\n",
        "* `AB-GL:` Fifty-six anonymized health characteristics. All are numeric except for EJ, which is categorical and binomial.\n",
        "* `Class:` A binary target, 1 indicates the subject has been diagnosed with one of the three conditions, 0 indicates they have not.\n",
        "\n",
        "\n",
        "**test.csv - The test set** The goal is to predict the probability that a subject in this set belongs to each of the two classes.\n",
        "\n",
        "\n",
        "**greeks.csv - Supplemental metadata**, only available for the training set. 617 rows, 6 columns\n",
        "* `Alpha:` Identifies the type of age-related condition, if present.\n",
        "\n",
        "    A: No age-related condition. Corresponds to class 0.\n",
        "\n",
        "    B, D, G: The three age-related conditions. Correspond to class 1.\n",
        "\n",
        "* `Beta, Gamma, Delta:` Three experimental characteristics.\n",
        "* `Epsilon:`The date the data for this subject was collected. Note that all of the data in the test set was collected after the training set was collected."
      ],
      "metadata": {
        "id": "cpcmMg22pie_"
      }
    },
    {
      "cell_type": "markdown",
      "source": [
        "# Load data"
      ],
      "metadata": {
        "id": "di7VWbGY_hoy"
      }
    },
    {
      "cell_type": "code",
      "source": [
        "Train = pd.read_csv('train.csv')\n",
        "Test = pd.read_csv('test.csv')\n",
        "greeks =pd.read_csv('greeks.csv')"
      ],
      "metadata": {
        "id": "306QXLvt9vQ3"
      },
      "execution_count": 34,
      "outputs": []
    },
    {
      "cell_type": "markdown",
      "source": [
        "# Baseline CatBoost + Stratified K-fold Cross Validation"
      ],
      "metadata": {
        "id": "Z6TP0GCRtBqf"
      }
    },
    {
      "cell_type": "markdown",
      "source": [
        "## Loss Function\n",
        "\n",
        "**logloss function**\n",
        "Also known as cross-entropy loss or logistic loss, is commonly used as a loss function in binary classification problems. It measures the dissimilarity between the predicted probabilities and the true binary labels.\n",
        "\n",
        "The **balance_logloss** is an implementation of the *balanced log loss* evaluation metric. This metric is used in unbalanced binary classification problems, where the classes have different numbers of samples."
      ],
      "metadata": {
        "id": "u7cl8z_q-uc9"
      }
    },
    {
      "cell_type": "code",
      "source": [
        "def balance_logloss(y_true, y_pred):\n",
        "    y_pred = np.clip(y_pred, 1e-15, 1-1e-15) # avoid values ​​close to zero or one\n",
        "    y_pred / np.sum(y_pred, axis=1)[:, None] # normalize the predictions\n",
        "    nc = np.bincount(y_true) # count the number of samples of each class in the vector of true labels\n",
        "    w0, w1 = 1/(nc[0]/y_true.shape[0]), 1/(nc[1]/y_true.shape[0]) # the weights w0, w1 compensate the class imbalance. \n",
        "    logloss = (-w0/nc[0]*(np.sum(np.where(y_true==0,1,0) * np.log(y_pred[:,0]))) - w1/nc[1]*(np.sum(np.where(y_true!=0,1,0) * np.log(y_pred[:,1])))) / (w0+w1)\n",
        "    \n",
        "    return logloss"
      ],
      "metadata": {
        "id": "l766N76zXbN_"
      },
      "execution_count": 26,
      "outputs": []
    },
    {
      "cell_type": "markdown",
      "source": [
        "## Model + Validation"
      ],
      "metadata": {
        "id": "1apBC_w4-4_S"
      }
    },
    {
      "cell_type": "markdown",
      "source": [
        "**Stratified k-fold cross-validation**\n",
        "\n",
        "Overall, this code performs multilabel stratified k-fold cross-validation by dividing the data into `n_splits` folds and assigning a fold index to each row in the \"kfold\" column of the DataFrame. The purpose of this approach is to ensure that each fold represents a balanced distribution of the target variables `(greeks.iloc[:,1:-1])`, suitable for training and evaluating a multilabel classification model."
      ],
      "metadata": {
        "id": "coG6cI7qeOif"
      }
    },
    {
      "cell_type": "code",
      "source": [
        "greeks_copy=greeks.copy()\n",
        "greeks = pd.merge(Train[['Id', 'Class']], greeks, on='Id')"
      ],
      "metadata": {
        "colab": {
          "base_uri": "https://localhost:8080/"
        },
        "id": "wE9iY4oWNLzh",
        "outputId": "a4efef2d-177c-40e4-8c17-0546a9a70001"
      },
      "execution_count": 20,
      "outputs": [
        {
          "output_type": "stream",
          "name": "stdout",
          "text": [
            "<class 'pandas.core.frame.DataFrame'>\n"
          ]
        }
      ]
    },
    {
      "cell_type": "code",
      "source": [
        "from iterstrat.ml_stratifiers import MultilabelStratifiedKFold\n",
        "\n",
        "Train['kfold'] = -1\n",
        "\n",
        "kf = MultilabelStratifiedKFold(n_splits=5, shuffle=True, random_state=42)\n",
        "for fold, (train_indicies, valid_indicies) in enumerate(kf.split(X=Train, y=greeks.iloc[:,1:-1])):\n",
        "    Train.loc[valid_indicies, \"kfold\"] = fold"
      ],
      "metadata": {
        "id": "2ruK0n2LedJ6"
      },
      "execution_count": null,
      "outputs": []
    },
    {
      "cell_type": "code",
      "source": [
        "Train.to_csv(\"train_folds.csv\", index=False) #Export the csv file\n",
        "#Train=pd.read_csv(\"train_folds.csv\")"
      ],
      "metadata": {
        "id": "q70YzT_1eguQ"
      },
      "execution_count": null,
      "outputs": []
    },
    {
      "cell_type": "markdown",
      "source": [
        "**CatBoost** is a machine learning algorithm specifically designed for gradient boosting on categorical features. CatBoost is a powerful gradient boosting algorithm that excels in handling categorical features, handles missing values, and provides robustness to outliers. It offers excellent performance and is widely used for various machine learning tasks"
      ],
      "metadata": {
        "id": "zviYBCjigGTn"
      }
    },
    {
      "cell_type": "code",
      "source": [
        "Train['EJ'] = Train['EJ'].replace({'A': 0, 'B': 1})\n",
        "Test['EJ']  = Test['EJ'].replace({'A': 0, 'B': 1})"
      ],
      "metadata": {
        "id": "pn92AvcCeV8d"
      },
      "execution_count": null,
      "outputs": []
    },
    {
      "cell_type": "code",
      "source": [
        "features = Train.columns[1:-2]\n",
        "label    = Train.columns[-2]"
      ],
      "metadata": {
        "id": "W-UNEUbMeDns"
      },
      "execution_count": null,
      "outputs": []
    },
    {
      "cell_type": "code",
      "source": [
        "final_valid_predictions = {}\n",
        "final_test_predictions = []\n",
        "s  = []\n",
        "bs = []\n",
        "\n",
        "for k in range(5): #Iterate through 5 folds\n",
        "    print('------------------ Fold: '+str(k)) #Print number of iteration\n",
        "    train     = Train[Train['kfold'] !=k].reset_index(drop=True) #training set, except current kfold\n",
        "    val       = Train[Train['kfold'] ==k].reset_index(drop=True) #validation set, current kfold\n",
        "    valid_ids = val.Id.values.tolist() #Unique identifiers in the validation set (val.Id) are obtained and stored in the valid_ids list.\n",
        "\n",
        "\n",
        "    #train_dataset and eval_dataset created using the training and validation data,features, and label\n",
        "    train_dataset = Pool(data=train[features], label=train[label], cat_features=[\"EJ\"] )\n",
        "    eval_dataset  = Pool(data=val[features], label=val[label], cat_features=[\"EJ\"])\n",
        "\n",
        "\n",
        "    #The parameters of the CatBoostClassifier model are defined\n",
        "    params = {\n",
        "       \"iterations\": 10000,\n",
        "        \"verbose\": 1000,\n",
        "        \"learning_rate\": 0.003,\n",
        "        \"depth\": 4,\n",
        "        'auto_class_weights':'Balanced',\n",
        "        'loss_function':'MultiClass',\n",
        "        'eval_metric':'MultiClass:use_weights=False',\n",
        "    }\n",
        "\n",
        "    #An instance of the CatBoostClassifier model is created with the specified parameters.\n",
        "    model = CatBoostClassifier(**params)\n",
        "\n",
        "    #The model is trained on the training set.\n",
        "    model.fit(train_dataset, eval_set=eval_dataset, use_best_model=True)\n",
        "\n",
        "    #Probability predictions are generated for the validation set and the test set.\n",
        "    preds_valid = model.predict_proba(val[features])\n",
        "    preds_test  = model.predict_proba(Test[features])\n",
        "\n",
        "    final_test_predictions.append(preds_test) #Append test set predictions\n",
        "    final_valid_predictions.update(dict(zip(valid_ids, preds_valid))) #Validation set predictions added to a dictionary, sample identifiers as keys. \n",
        "    logloss  = log_loss(val[label], preds_valid) #Calculate the log-loss metric \n",
        "    blogloss = balance_logloss(val[label], preds_valid) #Calculate the balanced log-loss metric \n",
        "\n",
        "    s.append(logloss) #Append logloss values\n",
        "    bs.append(blogloss) #Append balanced logloss values\n",
        "\n",
        "    print(k, logloss, blogloss)\n",
        "print('Log loss:')\n",
        "print(s)\n",
        "print(np.mean(s), np.std(s))  \n",
        "print('Balance Log loss:')\n",
        "print(bs)\n",
        "print(np.mean(bs), np.std(bs))"
      ],
      "metadata": {
        "id": "gT8OJuH3XdCG",
        "colab": {
          "base_uri": "https://localhost:8080/"
        },
        "outputId": "7297bfa0-e96b-4bc5-b1d6-6c8c2b2eb9fb"
      },
      "execution_count": 27,
      "outputs": [
        {
          "output_type": "stream",
          "name": "stdout",
          "text": [
            "------------------ Fold: 0\n",
            "0:\tlearn: 0.6918613\ttest: 0.6918524\tbest: 0.6918524 (0)\ttotal: 60.4ms\tremaining: 10m 4s\n",
            "1000:\tlearn: 0.3112258\ttest: 0.3129799\tbest: 0.3129799 (1000)\ttotal: 12.4s\tremaining: 1m 51s\n",
            "2000:\tlearn: 0.2102446\ttest: 0.2228566\tbest: 0.2228566 (2000)\ttotal: 28s\tremaining: 1m 52s\n",
            "3000:\tlearn: 0.1412684\ttest: 0.1690151\tbest: 0.1690151 (3000)\ttotal: 36.5s\tremaining: 1m 25s\n",
            "4000:\tlearn: 0.0976817\ttest: 0.1384604\tbest: 0.1384604 (4000)\ttotal: 43s\tremaining: 1m 4s\n",
            "5000:\tlearn: 0.0725291\ttest: 0.1201606\tbest: 0.1201606 (5000)\ttotal: 51.3s\tremaining: 51.3s\n",
            "6000:\tlearn: 0.0561581\ttest: 0.1080580\tbest: 0.1080580 (6000)\ttotal: 59.4s\tremaining: 39.6s\n",
            "7000:\tlearn: 0.0447400\ttest: 0.0994511\tbest: 0.0994511 (7000)\ttotal: 1m 12s\tremaining: 30.9s\n",
            "8000:\tlearn: 0.0365569\ttest: 0.0929959\tbest: 0.0929959 (8000)\ttotal: 1m 20s\tremaining: 20.1s\n",
            "9000:\tlearn: 0.0304336\ttest: 0.0879040\tbest: 0.0879040 (9000)\ttotal: 1m 26s\tremaining: 9.63s\n",
            "9999:\tlearn: 0.0258011\ttest: 0.0839598\tbest: 0.0839433 (9995)\ttotal: 1m 35s\tremaining: 0us\n",
            "\n",
            "bestTest = 0.08394330062\n",
            "bestIteration = 9995\n",
            "\n",
            "Shrink model to first 9996 iterations.\n",
            "0 0.08394330061920509 0.18039336015450985\n",
            "------------------ Fold: 1\n",
            "0:\tlearn: 0.6918825\ttest: 0.6919766\tbest: 0.6919766 (0)\ttotal: 8.39ms\tremaining: 1m 23s\n",
            "1000:\tlearn: 0.2900012\ttest: 0.3715650\tbest: 0.3715650 (1000)\ttotal: 7.68s\tremaining: 1m 9s\n",
            "2000:\tlearn: 0.1893261\ttest: 0.2990724\tbest: 0.2990724 (2000)\ttotal: 16.2s\tremaining: 1m 4s\n",
            "3000:\tlearn: 0.1238937\ttest: 0.2527433\tbest: 0.2527433 (3000)\ttotal: 22.8s\tremaining: 53.3s\n",
            "4000:\tlearn: 0.0868293\ttest: 0.2264428\tbest: 0.2264428 (4000)\ttotal: 31.5s\tremaining: 47.3s\n",
            "5000:\tlearn: 0.0653117\ttest: 0.2114421\tbest: 0.2114421 (5000)\ttotal: 38.7s\tremaining: 38.7s\n",
            "6000:\tlearn: 0.0511557\ttest: 0.2008466\tbest: 0.2008227 (5999)\ttotal: 46.6s\tremaining: 31.1s\n",
            "7000:\tlearn: 0.0414099\ttest: 0.1938856\tbest: 0.1938856 (7000)\ttotal: 55s\tremaining: 23.6s\n",
            "8000:\tlearn: 0.0342846\ttest: 0.1890478\tbest: 0.1890406 (7996)\ttotal: 1m 2s\tremaining: 15.5s\n",
            "9000:\tlearn: 0.0289981\ttest: 0.1858222\tbest: 0.1857481 (8962)\ttotal: 1m 13s\tremaining: 8.12s\n",
            "9999:\tlearn: 0.0249030\ttest: 0.1832156\tbest: 0.1832156 (9999)\ttotal: 1m 19s\tremaining: 0us\n",
            "\n",
            "bestTest = 0.1832156324\n",
            "bestIteration = 9999\n",
            "\n",
            "1 0.18321563241757932 0.40598668645985453\n",
            "------------------ Fold: 2\n",
            "0:\tlearn: 0.6919078\ttest: 0.6918619\tbest: 0.6918619 (0)\ttotal: 7.65ms\tremaining: 1m 16s\n",
            "1000:\tlearn: 0.2983956\ttest: 0.3468701\tbest: 0.3468701 (1000)\ttotal: 8.57s\tremaining: 1m 17s\n",
            "2000:\tlearn: 0.1951476\ttest: 0.2731173\tbest: 0.2731173 (2000)\ttotal: 15.1s\tremaining: 1m\n",
            "3000:\tlearn: 0.1298665\ttest: 0.2343166\tbest: 0.2343147 (2995)\ttotal: 24s\tremaining: 56s\n",
            "4000:\tlearn: 0.0912853\ttest: 0.2142431\tbest: 0.2142342 (3999)\ttotal: 30.5s\tremaining: 45.8s\n",
            "5000:\tlearn: 0.0687703\ttest: 0.2031031\tbest: 0.2031031 (5000)\ttotal: 42.7s\tremaining: 42.7s\n",
            "6000:\tlearn: 0.0536273\ttest: 0.1950066\tbest: 0.1950035 (5998)\ttotal: 54.5s\tremaining: 36.3s\n",
            "7000:\tlearn: 0.0432676\ttest: 0.1902592\tbest: 0.1902558 (6999)\ttotal: 1m 3s\tremaining: 27.1s\n",
            "8000:\tlearn: 0.0355420\ttest: 0.1864895\tbest: 0.1864575 (7991)\ttotal: 1m 11s\tremaining: 18s\n",
            "9000:\tlearn: 0.0299728\ttest: 0.1853349\tbest: 0.1852705 (8892)\ttotal: 1m 21s\tremaining: 9.01s\n",
            "9999:\tlearn: 0.0257281\ttest: 0.1839801\tbest: 0.1839504 (9986)\ttotal: 1m 28s\tremaining: 0us\n",
            "\n",
            "bestTest = 0.1839503918\n",
            "bestIteration = 9986\n",
            "\n",
            "Shrink model to first 9987 iterations.\n",
            "2 0.18395039183005218 0.37671256621684773\n",
            "------------------ Fold: 3\n",
            "0:\tlearn: 0.6920182\ttest: 0.6920373\tbest: 0.6920373 (0)\ttotal: 6.7ms\tremaining: 1m 7s\n",
            "1000:\tlearn: 0.3002779\ttest: 0.3482275\tbest: 0.3482275 (1000)\ttotal: 8.69s\tremaining: 1m 18s\n",
            "2000:\tlearn: 0.1992016\ttest: 0.2766083\tbest: 0.2766083 (2000)\ttotal: 15.2s\tremaining: 1m\n",
            "3000:\tlearn: 0.1347370\ttest: 0.2371362\tbest: 0.2371362 (3000)\ttotal: 23.9s\tremaining: 55.6s\n",
            "4000:\tlearn: 0.0956979\ttest: 0.2172547\tbest: 0.2172547 (4000)\ttotal: 30.8s\tremaining: 46.2s\n",
            "5000:\tlearn: 0.0717499\ttest: 0.2052254\tbest: 0.2052254 (5000)\ttotal: 39.3s\tremaining: 39.3s\n",
            "6000:\tlearn: 0.0563951\ttest: 0.1988200\tbest: 0.1987591 (5995)\ttotal: 47.5s\tremaining: 31.6s\n",
            "7000:\tlearn: 0.0455110\ttest: 0.1936831\tbest: 0.1936517 (6975)\ttotal: 54.3s\tremaining: 23.3s\n",
            "8000:\tlearn: 0.0375996\ttest: 0.1904018\tbest: 0.1903426 (7973)\ttotal: 1m 3s\tremaining: 15.8s\n",
            "9000:\tlearn: 0.0316137\ttest: 0.1879793\tbest: 0.1879716 (8996)\ttotal: 1m 9s\tremaining: 7.74s\n",
            "9999:\tlearn: 0.0269737\ttest: 0.1873208\tbest: 0.1870387 (9506)\ttotal: 1m 18s\tremaining: 0us\n",
            "\n",
            "bestTest = 0.1870386833\n",
            "bestIteration = 9506\n",
            "\n",
            "Shrink model to first 9507 iterations.\n",
            "3 0.18703868328030734 0.24518523970658002\n",
            "------------------ Fold: 4\n",
            "0:\tlearn: 0.6918196\ttest: 0.6917788\tbest: 0.6917788 (0)\ttotal: 8.46ms\tremaining: 1m 24s\n",
            "1000:\tlearn: 0.2932390\ttest: 0.3379407\tbest: 0.3379407 (1000)\ttotal: 6.37s\tremaining: 57.3s\n",
            "2000:\tlearn: 0.1913432\ttest: 0.2643823\tbest: 0.2643823 (2000)\ttotal: 15.1s\tremaining: 1m\n",
            "3000:\tlearn: 0.1278173\ttest: 0.2239253\tbest: 0.2239253 (3000)\ttotal: 21.5s\tremaining: 50.2s\n",
            "4000:\tlearn: 0.0906895\ttest: 0.2061099\tbest: 0.2061099 (4000)\ttotal: 32.4s\tremaining: 48.6s\n",
            "5000:\tlearn: 0.0685790\ttest: 0.1953954\tbest: 0.1953240 (4994)\ttotal: 38.8s\tremaining: 38.8s\n",
            "6000:\tlearn: 0.0541319\ttest: 0.1896330\tbest: 0.1896189 (5991)\ttotal: 50.3s\tremaining: 33.5s\n",
            "7000:\tlearn: 0.0442200\ttest: 0.1865145\tbest: 0.1865021 (6959)\ttotal: 1m\tremaining: 26s\n",
            "8000:\tlearn: 0.0367948\ttest: 0.1836876\tbest: 0.1836473 (7932)\ttotal: 1m 7s\tremaining: 16.7s\n",
            "9000:\tlearn: 0.0311550\ttest: 0.1819912\tbest: 0.1819912 (9000)\ttotal: 1m 18s\tremaining: 8.66s\n",
            "9999:\tlearn: 0.0267467\ttest: 0.1807714\tbest: 0.1807528 (9983)\ttotal: 1m 25s\tremaining: 0us\n",
            "\n",
            "bestTest = 0.1807528093\n",
            "bestIteration = 9983\n",
            "\n",
            "Shrink model to first 9984 iterations.\n",
            "4 0.18075280933083537 0.5004283607137477\n",
            "Log loss:\n",
            "[0.08394330061920509, 0.18321563241757932, 0.18395039183005218, 0.18703868328030734, 0.18075280933083537]\n",
            "0.16378016349559585 0.03996881205752655\n",
            "Balance Log loss:\n",
            "[0.18039336015450985, 0.40598668645985453, 0.37671256621684773, 0.24518523970658002, 0.5004283607137477]\n",
            "0.341741242650308 0.11479396574028478\n"
          ]
        }
      ]
    },
    {
      "cell_type": "markdown",
      "source": [
        "# Submission File"
      ],
      "metadata": {
        "id": "jfo_TXwGt5FZ"
      }
    },
    {
      "cell_type": "code",
      "source": [
        "#Predictions of the validation set\n",
        "final_valid_predictions = pd.DataFrame.from_dict(final_valid_predictions, orient=\"index\").reset_index() #dictionary to dataframe\n",
        "final_valid_predictions.columns = ['Id', 'class_0', 'class_1'] #Column names\n",
        "\n",
        "#Calculating the average prediction for each sample in the test set (taking the 5 folds).\n",
        "final_test_predictions = (final_test_predictions[0] + final_test_predictions[1] + final_test_predictions[2] + final_test_predictions[3] + final_test_predictions[4])/5\n",
        "test_dict = {}\n",
        "test_dict.update(dict(zip(Test.Id.values.tolist(), final_test_predictions))) #Mapping each sample ID from the Test dataset to its corresponding average prediction from final_test_predictions. \n",
        "submission = pd.DataFrame.from_dict(test_dict, orient=\"index\").reset_index() #Dictionary to dataframe\n",
        "submission.columns = ['Id', 'class_0', 'class_1'] #Column names               \n",
        "\n",
        "submission.to_csv(r\"submission.csv\", index=False)"
      ],
      "metadata": {
        "id": "q_h_FsC-b3BU"
      },
      "execution_count": 28,
      "outputs": []
    },
    {
      "cell_type": "code",
      "source": [
        "submission.head()"
      ],
      "metadata": {
        "id": "P9yOPd6Qfx_b",
        "colab": {
          "base_uri": "https://localhost:8080/",
          "height": 206
        },
        "outputId": "8642c0a6-f55c-4b9b-85fa-4db598106655"
      },
      "execution_count": 29,
      "outputs": [
        {
          "output_type": "execute_result",
          "data": {
            "text/plain": [
              "             Id   class_0   class_1\n",
              "0  00eed32682bb  0.803432  0.196568\n",
              "1  010ebe33f668  0.803432  0.196568\n",
              "2  02fa521e1838  0.803432  0.196568\n",
              "3  040e15f562a2  0.803432  0.196568\n",
              "4  046e85c7cc7f  0.803432  0.196568"
            ],
            "text/html": [
              "\n",
              "  <div id=\"df-1f460cdd-9fbd-4f28-bd51-a8ed4926f008\">\n",
              "    <div class=\"colab-df-container\">\n",
              "      <div>\n",
              "<style scoped>\n",
              "    .dataframe tbody tr th:only-of-type {\n",
              "        vertical-align: middle;\n",
              "    }\n",
              "\n",
              "    .dataframe tbody tr th {\n",
              "        vertical-align: top;\n",
              "    }\n",
              "\n",
              "    .dataframe thead th {\n",
              "        text-align: right;\n",
              "    }\n",
              "</style>\n",
              "<table border=\"1\" class=\"dataframe\">\n",
              "  <thead>\n",
              "    <tr style=\"text-align: right;\">\n",
              "      <th></th>\n",
              "      <th>Id</th>\n",
              "      <th>class_0</th>\n",
              "      <th>class_1</th>\n",
              "    </tr>\n",
              "  </thead>\n",
              "  <tbody>\n",
              "    <tr>\n",
              "      <th>0</th>\n",
              "      <td>00eed32682bb</td>\n",
              "      <td>0.803432</td>\n",
              "      <td>0.196568</td>\n",
              "    </tr>\n",
              "    <tr>\n",
              "      <th>1</th>\n",
              "      <td>010ebe33f668</td>\n",
              "      <td>0.803432</td>\n",
              "      <td>0.196568</td>\n",
              "    </tr>\n",
              "    <tr>\n",
              "      <th>2</th>\n",
              "      <td>02fa521e1838</td>\n",
              "      <td>0.803432</td>\n",
              "      <td>0.196568</td>\n",
              "    </tr>\n",
              "    <tr>\n",
              "      <th>3</th>\n",
              "      <td>040e15f562a2</td>\n",
              "      <td>0.803432</td>\n",
              "      <td>0.196568</td>\n",
              "    </tr>\n",
              "    <tr>\n",
              "      <th>4</th>\n",
              "      <td>046e85c7cc7f</td>\n",
              "      <td>0.803432</td>\n",
              "      <td>0.196568</td>\n",
              "    </tr>\n",
              "  </tbody>\n",
              "</table>\n",
              "</div>\n",
              "      <button class=\"colab-df-convert\" onclick=\"convertToInteractive('df-1f460cdd-9fbd-4f28-bd51-a8ed4926f008')\"\n",
              "              title=\"Convert this dataframe to an interactive table.\"\n",
              "              style=\"display:none;\">\n",
              "        \n",
              "  <svg xmlns=\"http://www.w3.org/2000/svg\" height=\"24px\"viewBox=\"0 0 24 24\"\n",
              "       width=\"24px\">\n",
              "    <path d=\"M0 0h24v24H0V0z\" fill=\"none\"/>\n",
              "    <path d=\"M18.56 5.44l.94 2.06.94-2.06 2.06-.94-2.06-.94-.94-2.06-.94 2.06-2.06.94zm-11 1L8.5 8.5l.94-2.06 2.06-.94-2.06-.94L8.5 2.5l-.94 2.06-2.06.94zm10 10l.94 2.06.94-2.06 2.06-.94-2.06-.94-.94-2.06-.94 2.06-2.06.94z\"/><path d=\"M17.41 7.96l-1.37-1.37c-.4-.4-.92-.59-1.43-.59-.52 0-1.04.2-1.43.59L10.3 9.45l-7.72 7.72c-.78.78-.78 2.05 0 2.83L4 21.41c.39.39.9.59 1.41.59.51 0 1.02-.2 1.41-.59l7.78-7.78 2.81-2.81c.8-.78.8-2.07 0-2.86zM5.41 20L4 18.59l7.72-7.72 1.47 1.35L5.41 20z\"/>\n",
              "  </svg>\n",
              "      </button>\n",
              "      \n",
              "  <style>\n",
              "    .colab-df-container {\n",
              "      display:flex;\n",
              "      flex-wrap:wrap;\n",
              "      gap: 12px;\n",
              "    }\n",
              "\n",
              "    .colab-df-convert {\n",
              "      background-color: #E8F0FE;\n",
              "      border: none;\n",
              "      border-radius: 50%;\n",
              "      cursor: pointer;\n",
              "      display: none;\n",
              "      fill: #1967D2;\n",
              "      height: 32px;\n",
              "      padding: 0 0 0 0;\n",
              "      width: 32px;\n",
              "    }\n",
              "\n",
              "    .colab-df-convert:hover {\n",
              "      background-color: #E2EBFA;\n",
              "      box-shadow: 0px 1px 2px rgba(60, 64, 67, 0.3), 0px 1px 3px 1px rgba(60, 64, 67, 0.15);\n",
              "      fill: #174EA6;\n",
              "    }\n",
              "\n",
              "    [theme=dark] .colab-df-convert {\n",
              "      background-color: #3B4455;\n",
              "      fill: #D2E3FC;\n",
              "    }\n",
              "\n",
              "    [theme=dark] .colab-df-convert:hover {\n",
              "      background-color: #434B5C;\n",
              "      box-shadow: 0px 1px 3px 1px rgba(0, 0, 0, 0.15);\n",
              "      filter: drop-shadow(0px 1px 2px rgba(0, 0, 0, 0.3));\n",
              "      fill: #FFFFFF;\n",
              "    }\n",
              "  </style>\n",
              "\n",
              "      <script>\n",
              "        const buttonEl =\n",
              "          document.querySelector('#df-1f460cdd-9fbd-4f28-bd51-a8ed4926f008 button.colab-df-convert');\n",
              "        buttonEl.style.display =\n",
              "          google.colab.kernel.accessAllowed ? 'block' : 'none';\n",
              "\n",
              "        async function convertToInteractive(key) {\n",
              "          const element = document.querySelector('#df-1f460cdd-9fbd-4f28-bd51-a8ed4926f008');\n",
              "          const dataTable =\n",
              "            await google.colab.kernel.invokeFunction('convertToInteractive',\n",
              "                                                     [key], {});\n",
              "          if (!dataTable) return;\n",
              "\n",
              "          const docLinkHtml = 'Like what you see? Visit the ' +\n",
              "            '<a target=\"_blank\" href=https://colab.research.google.com/notebooks/data_table.ipynb>data table notebook</a>'\n",
              "            + ' to learn more about interactive tables.';\n",
              "          element.innerHTML = '';\n",
              "          dataTable['output_type'] = 'display_data';\n",
              "          await google.colab.output.renderOutput(dataTable, element);\n",
              "          const docLink = document.createElement('div');\n",
              "          docLink.innerHTML = docLinkHtml;\n",
              "          element.appendChild(docLink);\n",
              "        }\n",
              "      </script>\n",
              "    </div>\n",
              "  </div>\n",
              "  "
            ]
          },
          "metadata": {},
          "execution_count": 29
        }
      ]
    },
    {
      "cell_type": "code",
      "source": [],
      "metadata": {
        "id": "esfCJHfkl74s"
      },
      "execution_count": null,
      "outputs": []
    }
  ]
}