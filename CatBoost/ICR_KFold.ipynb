{
  "nbformat": 4,
  "nbformat_minor": 0,
  "metadata": {
    "colab": {
      "provenance": [],
      "collapsed_sections": [
        "P2oAFj08t-Tu",
        "XYK3eUeO9TST",
        "o7-qhe9C9cs9",
        "vaWF-GOA_aOs",
        "iOCPMnwqpevI"
      ],
      "gpuType": "T4",
      "toc_visible": true,
      "authorship_tag": "ABX9TyO6rD/TpRv6Y8ocE+hljD1a",
      "include_colab_link": true
    },
    "kernelspec": {
      "name": "python3",
      "display_name": "Python 3"
    },
    "language_info": {
      "name": "python"
    },
    "gpuClass": "standard"
  },
  "cells": [
    {
      "cell_type": "markdown",
      "metadata": {
        "id": "view-in-github",
        "colab_type": "text"
      },
      "source": [
        "<a href=\"https://colab.research.google.com/github/anabarrerar/Machine_Learning/blob/main/CatBoost/ICR_KFold.ipynb\" target=\"_parent\"><img src=\"https://colab.research.google.com/assets/colab-badge.svg\" alt=\"Open In Colab\"/></a>"
      ]
    },
    {
      "cell_type": "markdown",
      "source": [
        "## Notebook requeriments\n"
      ],
      "metadata": {
        "id": "P2oAFj08t-Tu"
      }
    },
    {
      "cell_type": "code",
      "source": [
        "!pip install -q kaggle #kaggle"
      ],
      "metadata": {
        "id": "C1k-GNV5zB_W"
      },
      "execution_count": 1,
      "outputs": []
    },
    {
      "cell_type": "code",
      "source": [
        "import os\n",
        "\n",
        "def authenticate_kaggle(key_path):\n",
        "    # Mount your Google Drive to Colab\n",
        "    from google.colab import drive\n",
        "    drive.mount('/content/drive')\n",
        "\n",
        "    # Copy the Kaggle API key from your Drive to the .kaggle directory in your Drive\n",
        "    !mkdir -p /root/.kaggle\n",
        "    !cp '{key_path}/kaggle.json' /root/.kaggle/\n",
        "\n",
        "    # Set the permissions for the Kaggle API key\n",
        "    !chmod 600 /root/.kaggle/kaggle.json\n",
        "\n",
        "    # Authenticate with the Kaggle API\n",
        "    os.environ['KAGGLE_CONFIG_DIR'] = \"/root/.kaggle\"\n",
        "\n",
        "    if os.environ.get('KAGGLE_CONFIG_DIR') == \"/root/.kaggle\":\n",
        "        print('Authenticated with Kaggle API')"
      ],
      "metadata": {
        "id": "knvNEnNN7x2S"
      },
      "execution_count": 2,
      "outputs": []
    },
    {
      "cell_type": "code",
      "source": [
        "key_path = \"/content/drive/MyDrive/Colab Notebooks\"\n",
        "\n",
        "authenticate_kaggle(key_path)"
      ],
      "metadata": {
        "colab": {
          "base_uri": "https://localhost:8080/"
        },
        "id": "Ec-yIrkG78rT",
        "outputId": "d0e02f47-4d1d-4c3d-8d29-c6c5edf77d21"
      },
      "execution_count": 3,
      "outputs": [
        {
          "output_type": "stream",
          "name": "stdout",
          "text": [
            "Mounted at /content/drive\n",
            "Authenticated with Kaggle API\n"
          ]
        }
      ]
    },
    {
      "cell_type": "code",
      "source": [
        "! kaggle competitions download -c icr-identify-age-related-conditions"
      ],
      "metadata": {
        "colab": {
          "base_uri": "https://localhost:8080/"
        },
        "id": "tOhOgemf0cNn",
        "outputId": "31d2e07c-bbdf-4bfa-a816-d334d7b3555d"
      },
      "execution_count": 4,
      "outputs": [
        {
          "output_type": "stream",
          "name": "stdout",
          "text": [
            "Downloading icr-identify-age-related-conditions.zip to /content\n",
            "\r  0% 0.00/150k [00:00<?, ?B/s]\n",
            "\r100% 150k/150k [00:00<00:00, 89.1MB/s]\n"
          ]
        }
      ]
    },
    {
      "cell_type": "code",
      "source": [
        "import zipfile\n",
        "\n",
        "zip_file_path = '/content/drive/MyDrive/iterative-stratification-master.zip'\n",
        "extract_path = '/content'\n",
        "\n",
        "with zipfile.ZipFile(zip_file_path, 'r') as zip_ref:\n",
        "    zip_ref.extractall(extract_path)"
      ],
      "metadata": {
        "id": "v9i60D8L5AHL"
      },
      "execution_count": 5,
      "outputs": []
    },
    {
      "cell_type": "markdown",
      "source": [
        "## Install dependencias"
      ],
      "metadata": {
        "id": "XYK3eUeO9TST"
      }
    },
    {
      "cell_type": "code",
      "source": [
        "#!pip install dataprep -q # verbose "
      ],
      "metadata": {
        "id": "RujxrGCS9EpF"
      },
      "execution_count": 6,
      "outputs": []
    },
    {
      "cell_type": "code",
      "source": [
        "! pip install catboost"
      ],
      "metadata": {
        "colab": {
          "base_uri": "https://localhost:8080/"
        },
        "id": "Ct0kWtG9Otji",
        "outputId": "06388968-4d06-47e8-cea7-62e845e80e8f"
      },
      "execution_count": 7,
      "outputs": [
        {
          "output_type": "stream",
          "name": "stdout",
          "text": [
            "Looking in indexes: https://pypi.org/simple, https://us-python.pkg.dev/colab-wheels/public/simple/\n",
            "Collecting catboost\n",
            "  Downloading catboost-1.2-cp310-cp310-manylinux2014_x86_64.whl (98.6 MB)\n",
            "\u001b[2K     \u001b[90m━━━━━━━━━━━━━━━━━━━━━━━━━━━━━━━━━━━━━━━━\u001b[0m \u001b[32m98.6/98.6 MB\u001b[0m \u001b[31m9.6 MB/s\u001b[0m eta \u001b[36m0:00:00\u001b[0m\n",
            "\u001b[?25hRequirement already satisfied: graphviz in /usr/local/lib/python3.10/dist-packages (from catboost) (0.20.1)\n",
            "Requirement already satisfied: matplotlib in /usr/local/lib/python3.10/dist-packages (from catboost) (3.7.1)\n",
            "Requirement already satisfied: numpy>=1.16.0 in /usr/local/lib/python3.10/dist-packages (from catboost) (1.22.4)\n",
            "Requirement already satisfied: pandas>=0.24 in /usr/local/lib/python3.10/dist-packages (from catboost) (1.5.3)\n",
            "Requirement already satisfied: scipy in /usr/local/lib/python3.10/dist-packages (from catboost) (1.10.1)\n",
            "Requirement already satisfied: plotly in /usr/local/lib/python3.10/dist-packages (from catboost) (5.13.1)\n",
            "Requirement already satisfied: six in /usr/local/lib/python3.10/dist-packages (from catboost) (1.16.0)\n",
            "Requirement already satisfied: python-dateutil>=2.8.1 in /usr/local/lib/python3.10/dist-packages (from pandas>=0.24->catboost) (2.8.2)\n",
            "Requirement already satisfied: pytz>=2020.1 in /usr/local/lib/python3.10/dist-packages (from pandas>=0.24->catboost) (2022.7.1)\n",
            "Requirement already satisfied: contourpy>=1.0.1 in /usr/local/lib/python3.10/dist-packages (from matplotlib->catboost) (1.0.7)\n",
            "Requirement already satisfied: cycler>=0.10 in /usr/local/lib/python3.10/dist-packages (from matplotlib->catboost) (0.11.0)\n",
            "Requirement already satisfied: fonttools>=4.22.0 in /usr/local/lib/python3.10/dist-packages (from matplotlib->catboost) (4.39.3)\n",
            "Requirement already satisfied: kiwisolver>=1.0.1 in /usr/local/lib/python3.10/dist-packages (from matplotlib->catboost) (1.4.4)\n",
            "Requirement already satisfied: packaging>=20.0 in /usr/local/lib/python3.10/dist-packages (from matplotlib->catboost) (23.1)\n",
            "Requirement already satisfied: pillow>=6.2.0 in /usr/local/lib/python3.10/dist-packages (from matplotlib->catboost) (8.4.0)\n",
            "Requirement already satisfied: pyparsing>=2.3.1 in /usr/local/lib/python3.10/dist-packages (from matplotlib->catboost) (3.0.9)\n",
            "Requirement already satisfied: tenacity>=6.2.0 in /usr/local/lib/python3.10/dist-packages (from plotly->catboost) (8.2.2)\n",
            "Installing collected packages: catboost\n",
            "Successfully installed catboost-1.2\n"
          ]
        }
      ]
    },
    {
      "cell_type": "code",
      "source": [
        "! pip install category_encoders"
      ],
      "metadata": {
        "colab": {
          "base_uri": "https://localhost:8080/"
        },
        "id": "Xp5M7diu6je5",
        "outputId": "e598d48f-db30-46c4-bc68-5094e0942633"
      },
      "execution_count": 8,
      "outputs": [
        {
          "output_type": "stream",
          "name": "stdout",
          "text": [
            "Looking in indexes: https://pypi.org/simple, https://us-python.pkg.dev/colab-wheels/public/simple/\n",
            "Collecting category_encoders\n",
            "  Downloading category_encoders-2.6.1-py2.py3-none-any.whl (81 kB)\n",
            "\u001b[2K     \u001b[90m━━━━━━━━━━━━━━━━━━━━━━━━━━━━━━━━━━━━━━━━\u001b[0m \u001b[32m81.9/81.9 kB\u001b[0m \u001b[31m9.1 MB/s\u001b[0m eta \u001b[36m0:00:00\u001b[0m\n",
            "\u001b[?25hRequirement already satisfied: numpy>=1.14.0 in /usr/local/lib/python3.10/dist-packages (from category_encoders) (1.22.4)\n",
            "Requirement already satisfied: scikit-learn>=0.20.0 in /usr/local/lib/python3.10/dist-packages (from category_encoders) (1.2.2)\n",
            "Requirement already satisfied: scipy>=1.0.0 in /usr/local/lib/python3.10/dist-packages (from category_encoders) (1.10.1)\n",
            "Requirement already satisfied: statsmodels>=0.9.0 in /usr/local/lib/python3.10/dist-packages (from category_encoders) (0.13.5)\n",
            "Requirement already satisfied: pandas>=1.0.5 in /usr/local/lib/python3.10/dist-packages (from category_encoders) (1.5.3)\n",
            "Requirement already satisfied: patsy>=0.5.1 in /usr/local/lib/python3.10/dist-packages (from category_encoders) (0.5.3)\n",
            "Requirement already satisfied: python-dateutil>=2.8.1 in /usr/local/lib/python3.10/dist-packages (from pandas>=1.0.5->category_encoders) (2.8.2)\n",
            "Requirement already satisfied: pytz>=2020.1 in /usr/local/lib/python3.10/dist-packages (from pandas>=1.0.5->category_encoders) (2022.7.1)\n",
            "Requirement already satisfied: six in /usr/local/lib/python3.10/dist-packages (from patsy>=0.5.1->category_encoders) (1.16.0)\n",
            "Requirement already satisfied: joblib>=1.1.1 in /usr/local/lib/python3.10/dist-packages (from scikit-learn>=0.20.0->category_encoders) (1.2.0)\n",
            "Requirement already satisfied: threadpoolctl>=2.0.0 in /usr/local/lib/python3.10/dist-packages (from scikit-learn>=0.20.0->category_encoders) (3.1.0)\n",
            "Requirement already satisfied: packaging>=21.3 in /usr/local/lib/python3.10/dist-packages (from statsmodels>=0.9.0->category_encoders) (23.1)\n",
            "Installing collected packages: category_encoders\n",
            "Successfully installed category_encoders-2.6.1\n"
          ]
        }
      ]
    },
    {
      "cell_type": "code",
      "source": [
        "! pip install optuna"
      ],
      "metadata": {
        "colab": {
          "base_uri": "https://localhost:8080/"
        },
        "id": "mG-VRkZy6ta9",
        "outputId": "0c0282e7-3bb3-4826-e905-3a99a694f2d5"
      },
      "execution_count": 9,
      "outputs": [
        {
          "output_type": "stream",
          "name": "stdout",
          "text": [
            "Looking in indexes: https://pypi.org/simple, https://us-python.pkg.dev/colab-wheels/public/simple/\n",
            "Collecting optuna\n",
            "  Downloading optuna-3.1.1-py3-none-any.whl (365 kB)\n",
            "\u001b[2K     \u001b[90m━━━━━━━━━━━━━━━━━━━━━━━━━━━━━━━━━━━━━━\u001b[0m \u001b[32m365.7/365.7 kB\u001b[0m \u001b[31m23.4 MB/s\u001b[0m eta \u001b[36m0:00:00\u001b[0m\n",
            "\u001b[?25hCollecting alembic>=1.5.0 (from optuna)\n",
            "  Downloading alembic-1.11.1-py3-none-any.whl (224 kB)\n",
            "\u001b[2K     \u001b[90m━━━━━━━━━━━━━━━━━━━━━━━━━━━━━━━━━━━━━━\u001b[0m \u001b[32m224.5/224.5 kB\u001b[0m \u001b[31m26.7 MB/s\u001b[0m eta \u001b[36m0:00:00\u001b[0m\n",
            "\u001b[?25hCollecting cmaes>=0.9.1 (from optuna)\n",
            "  Downloading cmaes-0.9.1-py3-none-any.whl (21 kB)\n",
            "Collecting colorlog (from optuna)\n",
            "  Downloading colorlog-6.7.0-py2.py3-none-any.whl (11 kB)\n",
            "Requirement already satisfied: numpy in /usr/local/lib/python3.10/dist-packages (from optuna) (1.22.4)\n",
            "Requirement already satisfied: packaging>=20.0 in /usr/local/lib/python3.10/dist-packages (from optuna) (23.1)\n",
            "Requirement already satisfied: sqlalchemy>=1.3.0 in /usr/local/lib/python3.10/dist-packages (from optuna) (2.0.10)\n",
            "Requirement already satisfied: tqdm in /usr/local/lib/python3.10/dist-packages (from optuna) (4.65.0)\n",
            "Requirement already satisfied: PyYAML in /usr/local/lib/python3.10/dist-packages (from optuna) (6.0)\n",
            "Collecting Mako (from alembic>=1.5.0->optuna)\n",
            "  Downloading Mako-1.2.4-py3-none-any.whl (78 kB)\n",
            "\u001b[2K     \u001b[90m━━━━━━━━━━━━━━━━━━━━━━━━━━━━━━━━━━━━━━━━\u001b[0m \u001b[32m78.7/78.7 kB\u001b[0m \u001b[31m8.9 MB/s\u001b[0m eta \u001b[36m0:00:00\u001b[0m\n",
            "\u001b[?25hRequirement already satisfied: typing-extensions>=4 in /usr/local/lib/python3.10/dist-packages (from alembic>=1.5.0->optuna) (4.5.0)\n",
            "Requirement already satisfied: greenlet!=0.4.17 in /usr/local/lib/python3.10/dist-packages (from sqlalchemy>=1.3.0->optuna) (2.0.2)\n",
            "Requirement already satisfied: MarkupSafe>=0.9.2 in /usr/local/lib/python3.10/dist-packages (from Mako->alembic>=1.5.0->optuna) (2.1.2)\n",
            "Installing collected packages: Mako, colorlog, cmaes, alembic, optuna\n",
            "Successfully installed Mako-1.2.4 alembic-1.11.1 cmaes-0.9.1 colorlog-6.7.0 optuna-3.1.1\n"
          ]
        }
      ]
    },
    {
      "cell_type": "markdown",
      "source": [
        "## Import dependencies\n",
        "\n"
      ],
      "metadata": {
        "id": "o7-qhe9C9cs9"
      }
    },
    {
      "cell_type": "code",
      "source": [
        "#from dataprep.datasets import load_dataset\n",
        "#from dataprep.eda import create_report"
      ],
      "metadata": {
        "id": "k8IiSbEi9hSE"
      },
      "execution_count": 10,
      "outputs": []
    },
    {
      "cell_type": "code",
      "source": [
        "import numpy as np\n",
        "import pandas as pd\n",
        "import seaborn as sns\n",
        "import matplotlib.pyplot as plt\n",
        "import random\n",
        "import os\n",
        "from copy import deepcopy\n",
        "from functools import partial\n",
        "import random\n",
        "import gc\n",
        "\n",
        "# Import sklearn classes for model selection, cross validation, and performance evaluation\n",
        "from sklearn.linear_model import LinearRegression\n",
        "from sklearn.base import BaseEstimator, TransformerMixin\n",
        "from sklearn.model_selection import train_test_split\n",
        "from sklearn.model_selection import StratifiedKFold, KFold\n",
        "from sklearn.metrics import roc_auc_score, accuracy_score, log_loss\n",
        "from sklearn.preprocessing import StandardScaler, MinMaxScaler\n",
        "import seaborn as sns\n",
        "from category_encoders import OneHotEncoder, OrdinalEncoder, CountEncoder\n",
        "from imblearn.under_sampling import RandomUnderSampler\n",
        "\n",
        "# Import libraries for Hypertuning\n",
        "import optuna\n",
        "\n",
        "# Import libraries for gradient boosting\n",
        "import xgboost as xgb\n",
        "import lightgbm as lgb\n",
        "import xgboost as xgb\n",
        "import lightgbm as lgb\n",
        "from sklearn.ensemble import RandomForestClassifier, HistGradientBoostingClassifier, GradientBoostingClassifier, AdaBoostClassifier\n",
        "from imblearn.ensemble import BalancedRandomForestClassifier\n",
        "from sklearn.impute import KNNImputer\n",
        "from sklearn.pipeline import Pipeline\n",
        "from sklearn.svm import NuSVC, SVC\n",
        "from sklearn.neighbors import KNeighborsClassifier\n",
        "from sklearn.linear_model import LogisticRegressionCV, LogisticRegression\n",
        "from sklearn.neural_network import MLPClassifier\n",
        "from sklearn.gaussian_process import GaussianProcessClassifier\n",
        "from sklearn.gaussian_process.kernels import RBF\n",
        "from catboost import CatBoost, CatBoostRegressor, CatBoostClassifier\n",
        "from catboost import Pool\n",
        "\n",
        "\n",
        "# Suppress warnings\n",
        "import warnings\n",
        "warnings.filterwarnings(\"ignore\", category=UserWarning)\n",
        "warnings.filterwarnings(\"ignore\", category=FutureWarning)"
      ],
      "metadata": {
        "id": "YJ0T7O6qcvPZ"
      },
      "execution_count": 11,
      "outputs": []
    },
    {
      "cell_type": "markdown",
      "source": [
        "## Directory Manipulation"
      ],
      "metadata": {
        "id": "vaWF-GOA_aOs"
      }
    },
    {
      "cell_type": "code",
      "source": [
        "%pwd"
      ],
      "metadata": {
        "colab": {
          "base_uri": "https://localhost:8080/",
          "height": 0
        },
        "id": "byBlYG7b60Ku",
        "outputId": "096247d0-cbc1-403c-b2be-ad1195b9ce43"
      },
      "execution_count": 12,
      "outputs": [
        {
          "output_type": "execute_result",
          "data": {
            "text/plain": [
              "'/content'"
            ],
            "application/vnd.google.colaboratory.intrinsic+json": {
              "type": "string"
            }
          },
          "metadata": {},
          "execution_count": 12
        }
      ]
    },
    {
      "cell_type": "code",
      "source": [
        "%ls"
      ],
      "metadata": {
        "colab": {
          "base_uri": "https://localhost:8080/"
        },
        "id": "C8KxQfVE9kCb",
        "outputId": "15b429aa-76cd-4eb5-8d7c-6e0834e465ee"
      },
      "execution_count": 13,
      "outputs": [
        {
          "output_type": "stream",
          "name": "stdout",
          "text": [
            "\u001b[0m\u001b[01;34mdrive\u001b[0m/                                   \u001b[01;34miterative-stratification-master\u001b[0m/\n",
            "icr-identify-age-related-conditions.zip  \u001b[01;34msample_data\u001b[0m/\n"
          ]
        }
      ]
    },
    {
      "cell_type": "code",
      "source": [
        "!unzip icr-identify-age-related-conditions.zip"
      ],
      "metadata": {
        "colab": {
          "base_uri": "https://localhost:8080/"
        },
        "id": "ERWm5WJS9t3A",
        "outputId": "ad48d669-fbc8-4e0c-ba5b-f9d9c86f97d4"
      },
      "execution_count": 14,
      "outputs": [
        {
          "output_type": "stream",
          "name": "stdout",
          "text": [
            "Archive:  icr-identify-age-related-conditions.zip\n",
            "  inflating: greeks.csv              \n",
            "  inflating: sample_submission.csv   \n",
            "  inflating: test.csv                \n",
            "  inflating: train.csv               \n"
          ]
        }
      ]
    },
    {
      "cell_type": "code",
      "source": [
        "%ls"
      ],
      "metadata": {
        "colab": {
          "base_uri": "https://localhost:8080/"
        },
        "id": "1VV6n2oA-ux1",
        "outputId": "ed5da5c8-0030-4012-e68e-5841bd00275e"
      },
      "execution_count": 15,
      "outputs": [
        {
          "output_type": "stream",
          "name": "stdout",
          "text": [
            "\u001b[0m\u001b[01;34mdrive\u001b[0m/                                   \u001b[01;34msample_data\u001b[0m/\n",
            "greeks.csv                               sample_submission.csv\n",
            "icr-identify-age-related-conditions.zip  test.csv\n",
            "\u001b[01;34miterative-stratification-master\u001b[0m/         train.csv\n"
          ]
        }
      ]
    },
    {
      "cell_type": "code",
      "source": [
        "%cd iterative-stratification-master/ "
      ],
      "metadata": {
        "colab": {
          "base_uri": "https://localhost:8080/"
        },
        "id": "oK59UUvB3ufr",
        "outputId": "71771aea-27e2-48ff-e90a-f808e0508896"
      },
      "execution_count": 16,
      "outputs": [
        {
          "output_type": "stream",
          "name": "stdout",
          "text": [
            "/content/iterative-stratification-master\n"
          ]
        }
      ]
    },
    {
      "cell_type": "code",
      "source": [
        "pip install ."
      ],
      "metadata": {
        "colab": {
          "base_uri": "https://localhost:8080/"
        },
        "id": "RE-lyknV3--F",
        "outputId": "c76035bd-f2a8-40f9-8f2a-9a8788dd43df"
      },
      "execution_count": 17,
      "outputs": [
        {
          "output_type": "stream",
          "name": "stdout",
          "text": [
            "Looking in indexes: https://pypi.org/simple, https://us-python.pkg.dev/colab-wheels/public/simple/\n",
            "Processing /content/iterative-stratification-master\n",
            "  Preparing metadata (setup.py) ... \u001b[?25l\u001b[?25hdone\n",
            "Requirement already satisfied: numpy in /usr/local/lib/python3.10/dist-packages (from iterative-stratification==0.1.7) (1.22.4)\n",
            "Requirement already satisfied: scipy in /usr/local/lib/python3.10/dist-packages (from iterative-stratification==0.1.7) (1.10.1)\n",
            "Requirement already satisfied: scikit-learn in /usr/local/lib/python3.10/dist-packages (from iterative-stratification==0.1.7) (1.2.2)\n",
            "Requirement already satisfied: joblib>=1.1.1 in /usr/local/lib/python3.10/dist-packages (from scikit-learn->iterative-stratification==0.1.7) (1.2.0)\n",
            "Requirement already satisfied: threadpoolctl>=2.0.0 in /usr/local/lib/python3.10/dist-packages (from scikit-learn->iterative-stratification==0.1.7) (3.1.0)\n",
            "Building wheels for collected packages: iterative-stratification\n",
            "  Building wheel for iterative-stratification (setup.py) ... \u001b[?25l\u001b[?25hdone\n",
            "  Created wheel for iterative-stratification: filename=iterative_stratification-0.1.7-py3-none-any.whl size=8413 sha256=2ece9c0dc1333dfa8e89132d414a0e4e5fec938d5d7189c7c5ab53d4f7054760\n",
            "  Stored in directory: /root/.cache/pip/wheels/f8/4d/83/949cd9d1b0412b4a4416b82e747ea66dc3d86b6bc5436734de\n",
            "Successfully built iterative-stratification\n",
            "Installing collected packages: iterative-stratification\n",
            "Successfully installed iterative-stratification-0.1.7\n"
          ]
        }
      ]
    },
    {
      "cell_type": "code",
      "source": [
        "%cd .."
      ],
      "metadata": {
        "colab": {
          "base_uri": "https://localhost:8080/"
        },
        "id": "AEyAG0Zm7Eme",
        "outputId": "f62bacfc-01e8-4be8-dcf0-76b0150270a8"
      },
      "execution_count": 18,
      "outputs": [
        {
          "output_type": "stream",
          "name": "stdout",
          "text": [
            "/content\n"
          ]
        }
      ]
    },
    {
      "cell_type": "markdown",
      "source": [
        "# Description"
      ],
      "metadata": {
        "id": "iOCPMnwqpevI"
      }
    },
    {
      "cell_type": "markdown",
      "source": [
        "The goal of this project is to predict if a person has one or more of any of three medical conditions (Class 1), or none of the three medical conditions (Class 0). \n",
        "\n",
        "To determine if someone has these medical conditions requires a long and intrusive process to collect information from patients. With predictive models, we can shorten this process and keep patient details private by collecting key characteristics relative to the conditions, then encoding these characteristics.\n",
        "\n",
        "This project will help researchers discover the relationship between measurements of certain characteristics and potential patient conditions.\n",
        "\n"
      ],
      "metadata": {
        "id": "c6PJ5kNVoi0-"
      }
    },
    {
      "cell_type": "markdown",
      "source": [
        "## Dataset Description\n",
        "\n",
        "The competition data comprises over fifty anonymized health characteristics linked to three age-related conditions. Your goal is to predict whether a subject has or has not been diagnosed with one of these conditions -- a binary classification problem.\n",
        "\n",
        "\n",
        "\n",
        "**train.csv - The training set** 617 rows, 58 columns\n",
        "* `Id:` Unique identifier for each observation.\n",
        "* `AB-GL:` Fifty-six anonymized health characteristics. All are numeric except for EJ, which is categorical and binomial.\n",
        "* `Class:` A binary target, 1 indicates the subject has been diagnosed with one of the three conditions, 0 indicates they have not.\n",
        "\n",
        "\n",
        "**test.csv - The test set** The goal is to predict the probability that a subject in this set belongs to each of the two classes.\n",
        "\n",
        "\n",
        "**greeks.csv - Supplemental metadata**, only available for the training set. 617 rows, 6 columns\n",
        "* `Alpha:` Identifies the type of age-related condition, if present.\n",
        "\n",
        "    A: No age-related condition. Corresponds to class 0.\n",
        "\n",
        "    B, D, G: The three age-related conditions. Correspond to class 1.\n",
        "\n",
        "* `Beta, Gamma, Delta:` Three experimental characteristics.\n",
        "* `Epsilon:`The date the data for this subject was collected. Note that all of the data in the test set was collected after the training set was collected."
      ],
      "metadata": {
        "id": "cpcmMg22pie_"
      }
    },
    {
      "cell_type": "markdown",
      "source": [
        "# Load data"
      ],
      "metadata": {
        "id": "di7VWbGY_hoy"
      }
    },
    {
      "cell_type": "code",
      "source": [
        "Train = pd.read_csv('train.csv')\n",
        "Test = pd.read_csv('test.csv')\n",
        "greeks =pd.read_csv('greeks.csv')\n",
        "sample_sub=pd.read_csv('sample_submission.csv')"
      ],
      "metadata": {
        "id": "306QXLvt9vQ3",
        "colab": {
          "base_uri": "https://localhost:8080/"
        },
        "outputId": "fd80ebce-afb6-4da9-9100-0128e9a91ebf"
      },
      "execution_count": 19,
      "outputs": [
        {
          "output_type": "stream",
          "name": "stdout",
          "text": [
            "<class 'pandas.core.frame.DataFrame'>\n"
          ]
        }
      ]
    },
    {
      "cell_type": "markdown",
      "source": [
        "## Loss Function\n",
        "\n",
        "**logloss function**\n",
        "Also known as cross-entropy loss or logistic loss, is commonly used as a loss function in binary classification problems. It measures the dissimilarity between the predicted probabilities and the true binary labels.\n",
        "\n",
        "The **balance_logloss** is an implementation of the *balanced log loss* evaluation metric. This metric is used in unbalanced binary classification problems, where the classes have different numbers of samples."
      ],
      "metadata": {
        "id": "u7cl8z_q-uc9"
      }
    },
    {
      "cell_type": "code",
      "source": [
        "def balance_logloss(y_true, y_pred):\n",
        "    y_pred = np.clip(y_pred, 1e-15, 1-1e-15) # avoid values ​​close to zero or one\n",
        "    y_pred / np.sum(y_pred, axis=1)[:, None] # normalize the predictions\n",
        "    nc = np.bincount(y_true) # count the number of samples of each class in the vector of true labels\n",
        "    w0, w1 = 1/(nc[0]/y_true.shape[0]), 1/(nc[1]/y_true.shape[0]) # the weights w0, w1 compensate the class imbalance. \n",
        "    logloss = (-w0/nc[0]*(np.sum(np.where(y_true==0,1,0) * np.log(y_pred[:,0]))) - w1/nc[1]*(np.sum(np.where(y_true!=0,1,0) * np.log(y_pred[:,1])))) / (w0+w1)\n",
        "    \n",
        "    return logloss"
      ],
      "metadata": {
        "id": "l766N76zXbN_"
      },
      "execution_count": 26,
      "outputs": []
    },
    {
      "cell_type": "markdown",
      "source": [
        "## Model"
      ],
      "metadata": {
        "id": "1apBC_w4-4_S"
      }
    },
    {
      "cell_type": "markdown",
      "source": [
        "**Creating folds for Cross Validation**"
      ],
      "metadata": {
        "id": "coG6cI7qeOif"
      }
    },
    {
      "cell_type": "code",
      "source": [
        "greeks_copy=greeks.copy()\n",
        "greeks = pd.merge(Train[['Id', 'Class']], greeks, on='Id')"
      ],
      "metadata": {
        "colab": {
          "base_uri": "https://localhost:8080/"
        },
        "id": "wE9iY4oWNLzh",
        "outputId": "a4efef2d-177c-40e4-8c17-0546a9a70001"
      },
      "execution_count": 20,
      "outputs": [
        {
          "output_type": "stream",
          "name": "stdout",
          "text": [
            "<class 'pandas.core.frame.DataFrame'>\n"
          ]
        }
      ]
    },
    {
      "cell_type": "markdown",
      "source": [
        "### Stratified k-fold cross-validation\n",
        "\n",
        "Overall, this code performs multilabel stratified k-fold cross-validation by dividing the data into `n_splits` folds and assigning a fold index to each row in the \"kfold\" column of the DataFrame. The purpose of this approach is to ensure that each fold represents a balanced distribution of the target variables `(greeks.iloc[:,1:-1])`, suitable for training and evaluating a multilabel classification model."
      ],
      "metadata": {
        "id": "f5j76wWolrNU"
      }
    },
    {
      "cell_type": "code",
      "source": [
        "from iterstrat.ml_stratifiers import MultilabelStratifiedKFold\n",
        "\n",
        "Train['kfold'] = -1\n",
        "\n",
        "kf = MultilabelStratifiedKFold(n_splits=5, shuffle=True, random_state=42)\n",
        "for fold, (train_indicies, valid_indicies) in enumerate(kf.split(X=Train, y=greeks.iloc[:,1:-1])):\n",
        "    Train.loc[valid_indicies, \"kfold\"] = fold"
      ],
      "metadata": {
        "id": "2ruK0n2LedJ6"
      },
      "execution_count": null,
      "outputs": []
    },
    {
      "cell_type": "code",
      "source": [
        "Train.to_csv(\"train_folds.csv\", index=False) #Export the csv file\n",
        "#Train=pd.read_csv(\"train_folds.csv\")"
      ],
      "metadata": {
        "id": "q70YzT_1eguQ"
      },
      "execution_count": null,
      "outputs": []
    },
    {
      "cell_type": "markdown",
      "source": [
        "### Catboost"
      ],
      "metadata": {
        "id": "zviYBCjigGTn"
      }
    },
    {
      "cell_type": "code",
      "source": [
        "Train['EJ'] = Train['EJ'].replace({'A': 0, 'B': 1})\n",
        "Test['EJ']  = Test['EJ'].replace({'A': 0, 'B': 1})"
      ],
      "metadata": {
        "id": "pn92AvcCeV8d"
      },
      "execution_count": null,
      "outputs": []
    },
    {
      "cell_type": "code",
      "source": [
        "features = Train.columns[1:-2]\n",
        "label    = Train.columns[-2]"
      ],
      "metadata": {
        "id": "W-UNEUbMeDns"
      },
      "execution_count": null,
      "outputs": []
    },
    {
      "cell_type": "code",
      "source": [
        "final_valid_predictions = {}\n",
        "final_test_predictions = []\n",
        "s  = []\n",
        "bs = []\n",
        "\n",
        "for k in range(5): #Iterate through 5 folds\n",
        "    print('------------------ Fold: '+str(k)) #Print number of iteration\n",
        "    train     = Train[Train['kfold'] !=k].reset_index(drop=True) #training set, except current kfold\n",
        "    val       = Train[Train['kfold'] ==k].reset_index(drop=True) #validation set, current kfold\n",
        "    valid_ids = val.Id.values.tolist() #Unique identifiers in the validation set (val.Id) are obtained and stored in the valid_ids list.\n",
        "\n",
        "\n",
        "    #train_dataset and eval_dataset created using the training and validation data,features, and label\n",
        "    train_dataset = Pool(data=train[features], label=train[label], cat_features=[\"EJ\"] )\n",
        "    eval_dataset  = Pool(data=val[features], label=val[label], cat_features=[\"EJ\"])\n",
        "\n",
        "\n",
        "    #The parameters of the CatBoostClassifier model are defined\n",
        "    params = {\n",
        "       \"iterations\": 10000,\n",
        "        \"verbose\": 1000,\n",
        "        \"learning_rate\": 0.003,\n",
        "        \"depth\": 4,\n",
        "        'auto_class_weights':'Balanced',\n",
        "        'loss_function':'MultiClass',\n",
        "        'eval_metric':'MultiClass:use_weights=False',\n",
        "    }\n",
        "\n",
        "    #An instance of the CatBoostClassifier model is created with the specified parameters.\n",
        "    model = CatBoostClassifier(**params)\n",
        "\n",
        "    #The model is trained on the training set.\n",
        "    model.fit(train_dataset, eval_set=eval_dataset, use_best_model=True)\n",
        "\n",
        "    #Probability predictions are generated for the validation set and the test set.\n",
        "    preds_valid = model.predict_proba(val[features])\n",
        "    preds_test  = model.predict_proba(Test[features])\n",
        "\n",
        "    final_test_predictions.append(preds_test) #Append test set predictions\n",
        "    final_valid_predictions.update(dict(zip(valid_ids, preds_valid))) #Validation set predictions added to a dictionary, sample identifiers as keys. \n",
        "    logloss  = log_loss(val[label], preds_valid) #Calculate the log-loss metric \n",
        "    blogloss = balance_logloss(val[label], preds_valid) #Calculate the balanced log-loss metric \n",
        "\n",
        "    s.append(logloss) #Append logloss values\n",
        "    bs.append(blogloss) #Append balanced logloss values\n",
        "\n",
        "    print(k, logloss, blogloss)\n",
        "print('Log loss:')\n",
        "print(s)\n",
        "print(np.mean(s), np.std(s))  \n",
        "print('Balance Log loss:')\n",
        "print(bs)\n",
        "print(np.mean(bs), np.std(bs))"
      ],
      "metadata": {
        "id": "gT8OJuH3XdCG",
        "colab": {
          "base_uri": "https://localhost:8080/"
        },
        "outputId": "7297bfa0-e96b-4bc5-b1d6-6c8c2b2eb9fb"
      },
      "execution_count": 27,
      "outputs": [
        {
          "output_type": "stream",
          "name": "stdout",
          "text": [
            "------------------ Fold: 0\n",
            "0:\tlearn: 0.6918613\ttest: 0.6918524\tbest: 0.6918524 (0)\ttotal: 60.4ms\tremaining: 10m 4s\n",
            "1000:\tlearn: 0.3112258\ttest: 0.3129799\tbest: 0.3129799 (1000)\ttotal: 12.4s\tremaining: 1m 51s\n",
            "2000:\tlearn: 0.2102446\ttest: 0.2228566\tbest: 0.2228566 (2000)\ttotal: 28s\tremaining: 1m 52s\n",
            "3000:\tlearn: 0.1412684\ttest: 0.1690151\tbest: 0.1690151 (3000)\ttotal: 36.5s\tremaining: 1m 25s\n",
            "4000:\tlearn: 0.0976817\ttest: 0.1384604\tbest: 0.1384604 (4000)\ttotal: 43s\tremaining: 1m 4s\n",
            "5000:\tlearn: 0.0725291\ttest: 0.1201606\tbest: 0.1201606 (5000)\ttotal: 51.3s\tremaining: 51.3s\n",
            "6000:\tlearn: 0.0561581\ttest: 0.1080580\tbest: 0.1080580 (6000)\ttotal: 59.4s\tremaining: 39.6s\n",
            "7000:\tlearn: 0.0447400\ttest: 0.0994511\tbest: 0.0994511 (7000)\ttotal: 1m 12s\tremaining: 30.9s\n",
            "8000:\tlearn: 0.0365569\ttest: 0.0929959\tbest: 0.0929959 (8000)\ttotal: 1m 20s\tremaining: 20.1s\n",
            "9000:\tlearn: 0.0304336\ttest: 0.0879040\tbest: 0.0879040 (9000)\ttotal: 1m 26s\tremaining: 9.63s\n",
            "9999:\tlearn: 0.0258011\ttest: 0.0839598\tbest: 0.0839433 (9995)\ttotal: 1m 35s\tremaining: 0us\n",
            "\n",
            "bestTest = 0.08394330062\n",
            "bestIteration = 9995\n",
            "\n",
            "Shrink model to first 9996 iterations.\n",
            "0 0.08394330061920509 0.18039336015450985\n",
            "------------------ Fold: 1\n",
            "0:\tlearn: 0.6918825\ttest: 0.6919766\tbest: 0.6919766 (0)\ttotal: 8.39ms\tremaining: 1m 23s\n",
            "1000:\tlearn: 0.2900012\ttest: 0.3715650\tbest: 0.3715650 (1000)\ttotal: 7.68s\tremaining: 1m 9s\n",
            "2000:\tlearn: 0.1893261\ttest: 0.2990724\tbest: 0.2990724 (2000)\ttotal: 16.2s\tremaining: 1m 4s\n",
            "3000:\tlearn: 0.1238937\ttest: 0.2527433\tbest: 0.2527433 (3000)\ttotal: 22.8s\tremaining: 53.3s\n",
            "4000:\tlearn: 0.0868293\ttest: 0.2264428\tbest: 0.2264428 (4000)\ttotal: 31.5s\tremaining: 47.3s\n",
            "5000:\tlearn: 0.0653117\ttest: 0.2114421\tbest: 0.2114421 (5000)\ttotal: 38.7s\tremaining: 38.7s\n",
            "6000:\tlearn: 0.0511557\ttest: 0.2008466\tbest: 0.2008227 (5999)\ttotal: 46.6s\tremaining: 31.1s\n",
            "7000:\tlearn: 0.0414099\ttest: 0.1938856\tbest: 0.1938856 (7000)\ttotal: 55s\tremaining: 23.6s\n",
            "8000:\tlearn: 0.0342846\ttest: 0.1890478\tbest: 0.1890406 (7996)\ttotal: 1m 2s\tremaining: 15.5s\n",
            "9000:\tlearn: 0.0289981\ttest: 0.1858222\tbest: 0.1857481 (8962)\ttotal: 1m 13s\tremaining: 8.12s\n",
            "9999:\tlearn: 0.0249030\ttest: 0.1832156\tbest: 0.1832156 (9999)\ttotal: 1m 19s\tremaining: 0us\n",
            "\n",
            "bestTest = 0.1832156324\n",
            "bestIteration = 9999\n",
            "\n",
            "1 0.18321563241757932 0.40598668645985453\n",
            "------------------ Fold: 2\n",
            "0:\tlearn: 0.6919078\ttest: 0.6918619\tbest: 0.6918619 (0)\ttotal: 7.65ms\tremaining: 1m 16s\n",
            "1000:\tlearn: 0.2983956\ttest: 0.3468701\tbest: 0.3468701 (1000)\ttotal: 8.57s\tremaining: 1m 17s\n",
            "2000:\tlearn: 0.1951476\ttest: 0.2731173\tbest: 0.2731173 (2000)\ttotal: 15.1s\tremaining: 1m\n",
            "3000:\tlearn: 0.1298665\ttest: 0.2343166\tbest: 0.2343147 (2995)\ttotal: 24s\tremaining: 56s\n",
            "4000:\tlearn: 0.0912853\ttest: 0.2142431\tbest: 0.2142342 (3999)\ttotal: 30.5s\tremaining: 45.8s\n",
            "5000:\tlearn: 0.0687703\ttest: 0.2031031\tbest: 0.2031031 (5000)\ttotal: 42.7s\tremaining: 42.7s\n",
            "6000:\tlearn: 0.0536273\ttest: 0.1950066\tbest: 0.1950035 (5998)\ttotal: 54.5s\tremaining: 36.3s\n",
            "7000:\tlearn: 0.0432676\ttest: 0.1902592\tbest: 0.1902558 (6999)\ttotal: 1m 3s\tremaining: 27.1s\n",
            "8000:\tlearn: 0.0355420\ttest: 0.1864895\tbest: 0.1864575 (7991)\ttotal: 1m 11s\tremaining: 18s\n",
            "9000:\tlearn: 0.0299728\ttest: 0.1853349\tbest: 0.1852705 (8892)\ttotal: 1m 21s\tremaining: 9.01s\n",
            "9999:\tlearn: 0.0257281\ttest: 0.1839801\tbest: 0.1839504 (9986)\ttotal: 1m 28s\tremaining: 0us\n",
            "\n",
            "bestTest = 0.1839503918\n",
            "bestIteration = 9986\n",
            "\n",
            "Shrink model to first 9987 iterations.\n",
            "2 0.18395039183005218 0.37671256621684773\n",
            "------------------ Fold: 3\n",
            "0:\tlearn: 0.6920182\ttest: 0.6920373\tbest: 0.6920373 (0)\ttotal: 6.7ms\tremaining: 1m 7s\n",
            "1000:\tlearn: 0.3002779\ttest: 0.3482275\tbest: 0.3482275 (1000)\ttotal: 8.69s\tremaining: 1m 18s\n",
            "2000:\tlearn: 0.1992016\ttest: 0.2766083\tbest: 0.2766083 (2000)\ttotal: 15.2s\tremaining: 1m\n",
            "3000:\tlearn: 0.1347370\ttest: 0.2371362\tbest: 0.2371362 (3000)\ttotal: 23.9s\tremaining: 55.6s\n",
            "4000:\tlearn: 0.0956979\ttest: 0.2172547\tbest: 0.2172547 (4000)\ttotal: 30.8s\tremaining: 46.2s\n",
            "5000:\tlearn: 0.0717499\ttest: 0.2052254\tbest: 0.2052254 (5000)\ttotal: 39.3s\tremaining: 39.3s\n",
            "6000:\tlearn: 0.0563951\ttest: 0.1988200\tbest: 0.1987591 (5995)\ttotal: 47.5s\tremaining: 31.6s\n",
            "7000:\tlearn: 0.0455110\ttest: 0.1936831\tbest: 0.1936517 (6975)\ttotal: 54.3s\tremaining: 23.3s\n",
            "8000:\tlearn: 0.0375996\ttest: 0.1904018\tbest: 0.1903426 (7973)\ttotal: 1m 3s\tremaining: 15.8s\n",
            "9000:\tlearn: 0.0316137\ttest: 0.1879793\tbest: 0.1879716 (8996)\ttotal: 1m 9s\tremaining: 7.74s\n",
            "9999:\tlearn: 0.0269737\ttest: 0.1873208\tbest: 0.1870387 (9506)\ttotal: 1m 18s\tremaining: 0us\n",
            "\n",
            "bestTest = 0.1870386833\n",
            "bestIteration = 9506\n",
            "\n",
            "Shrink model to first 9507 iterations.\n",
            "3 0.18703868328030734 0.24518523970658002\n",
            "------------------ Fold: 4\n",
            "0:\tlearn: 0.6918196\ttest: 0.6917788\tbest: 0.6917788 (0)\ttotal: 8.46ms\tremaining: 1m 24s\n",
            "1000:\tlearn: 0.2932390\ttest: 0.3379407\tbest: 0.3379407 (1000)\ttotal: 6.37s\tremaining: 57.3s\n",
            "2000:\tlearn: 0.1913432\ttest: 0.2643823\tbest: 0.2643823 (2000)\ttotal: 15.1s\tremaining: 1m\n",
            "3000:\tlearn: 0.1278173\ttest: 0.2239253\tbest: 0.2239253 (3000)\ttotal: 21.5s\tremaining: 50.2s\n",
            "4000:\tlearn: 0.0906895\ttest: 0.2061099\tbest: 0.2061099 (4000)\ttotal: 32.4s\tremaining: 48.6s\n",
            "5000:\tlearn: 0.0685790\ttest: 0.1953954\tbest: 0.1953240 (4994)\ttotal: 38.8s\tremaining: 38.8s\n",
            "6000:\tlearn: 0.0541319\ttest: 0.1896330\tbest: 0.1896189 (5991)\ttotal: 50.3s\tremaining: 33.5s\n",
            "7000:\tlearn: 0.0442200\ttest: 0.1865145\tbest: 0.1865021 (6959)\ttotal: 1m\tremaining: 26s\n",
            "8000:\tlearn: 0.0367948\ttest: 0.1836876\tbest: 0.1836473 (7932)\ttotal: 1m 7s\tremaining: 16.7s\n",
            "9000:\tlearn: 0.0311550\ttest: 0.1819912\tbest: 0.1819912 (9000)\ttotal: 1m 18s\tremaining: 8.66s\n",
            "9999:\tlearn: 0.0267467\ttest: 0.1807714\tbest: 0.1807528 (9983)\ttotal: 1m 25s\tremaining: 0us\n",
            "\n",
            "bestTest = 0.1807528093\n",
            "bestIteration = 9983\n",
            "\n",
            "Shrink model to first 9984 iterations.\n",
            "4 0.18075280933083537 0.5004283607137477\n",
            "Log loss:\n",
            "[0.08394330061920509, 0.18321563241757932, 0.18395039183005218, 0.18703868328030734, 0.18075280933083537]\n",
            "0.16378016349559585 0.03996881205752655\n",
            "Balance Log loss:\n",
            "[0.18039336015450985, 0.40598668645985453, 0.37671256621684773, 0.24518523970658002, 0.5004283607137477]\n",
            "0.341741242650308 0.11479396574028478\n"
          ]
        }
      ]
    },
    {
      "cell_type": "code",
      "source": [
        "#Predictions of the validation set\n",
        "final_valid_predictions = pd.DataFrame.from_dict(final_valid_predictions, orient=\"index\").reset_index() #dictionary to dataframe\n",
        "final_valid_predictions.columns = ['Id', 'class_0', 'class_1'] #Column names\n",
        "\n",
        "#Calculating the average prediction for each sample in the test set (taking the 5 folds).\n",
        "final_test_predictions = (final_test_predictions[0] + final_test_predictions[1] + final_test_predictions[2] + final_test_predictions[3] + final_test_predictions[4])/5\n",
        "test_dict = {}\n",
        "test_dict.update(dict(zip(Test.Id.values.tolist(), final_test_predictions))) #Mapping each sample ID from the Test dataset to its corresponding average prediction from final_test_predictions. \n",
        "submission = pd.DataFrame.from_dict(test_dict, orient=\"index\").reset_index() #Dictionary to dataframe\n",
        "submission.columns = ['Id', 'class_0', 'class_1'] #Column names               \n",
        "\n",
        "# submission.to_csv(r\"submission.csv\", index=False)"
      ],
      "metadata": {
        "id": "q_h_FsC-b3BU"
      },
      "execution_count": 28,
      "outputs": []
    },
    {
      "cell_type": "code",
      "source": [
        "submission.head()"
      ],
      "metadata": {
        "id": "P9yOPd6Qfx_b",
        "colab": {
          "base_uri": "https://localhost:8080/",
          "height": 206
        },
        "outputId": "8642c0a6-f55c-4b9b-85fa-4db598106655"
      },
      "execution_count": 29,
      "outputs": [
        {
          "output_type": "execute_result",
          "data": {
            "text/plain": [
              "             Id   class_0   class_1\n",
              "0  00eed32682bb  0.803432  0.196568\n",
              "1  010ebe33f668  0.803432  0.196568\n",
              "2  02fa521e1838  0.803432  0.196568\n",
              "3  040e15f562a2  0.803432  0.196568\n",
              "4  046e85c7cc7f  0.803432  0.196568"
            ],
            "text/html": [
              "\n",
              "  <div id=\"df-1f460cdd-9fbd-4f28-bd51-a8ed4926f008\">\n",
              "    <div class=\"colab-df-container\">\n",
              "      <div>\n",
              "<style scoped>\n",
              "    .dataframe tbody tr th:only-of-type {\n",
              "        vertical-align: middle;\n",
              "    }\n",
              "\n",
              "    .dataframe tbody tr th {\n",
              "        vertical-align: top;\n",
              "    }\n",
              "\n",
              "    .dataframe thead th {\n",
              "        text-align: right;\n",
              "    }\n",
              "</style>\n",
              "<table border=\"1\" class=\"dataframe\">\n",
              "  <thead>\n",
              "    <tr style=\"text-align: right;\">\n",
              "      <th></th>\n",
              "      <th>Id</th>\n",
              "      <th>class_0</th>\n",
              "      <th>class_1</th>\n",
              "    </tr>\n",
              "  </thead>\n",
              "  <tbody>\n",
              "    <tr>\n",
              "      <th>0</th>\n",
              "      <td>00eed32682bb</td>\n",
              "      <td>0.803432</td>\n",
              "      <td>0.196568</td>\n",
              "    </tr>\n",
              "    <tr>\n",
              "      <th>1</th>\n",
              "      <td>010ebe33f668</td>\n",
              "      <td>0.803432</td>\n",
              "      <td>0.196568</td>\n",
              "    </tr>\n",
              "    <tr>\n",
              "      <th>2</th>\n",
              "      <td>02fa521e1838</td>\n",
              "      <td>0.803432</td>\n",
              "      <td>0.196568</td>\n",
              "    </tr>\n",
              "    <tr>\n",
              "      <th>3</th>\n",
              "      <td>040e15f562a2</td>\n",
              "      <td>0.803432</td>\n",
              "      <td>0.196568</td>\n",
              "    </tr>\n",
              "    <tr>\n",
              "      <th>4</th>\n",
              "      <td>046e85c7cc7f</td>\n",
              "      <td>0.803432</td>\n",
              "      <td>0.196568</td>\n",
              "    </tr>\n",
              "  </tbody>\n",
              "</table>\n",
              "</div>\n",
              "      <button class=\"colab-df-convert\" onclick=\"convertToInteractive('df-1f460cdd-9fbd-4f28-bd51-a8ed4926f008')\"\n",
              "              title=\"Convert this dataframe to an interactive table.\"\n",
              "              style=\"display:none;\">\n",
              "        \n",
              "  <svg xmlns=\"http://www.w3.org/2000/svg\" height=\"24px\"viewBox=\"0 0 24 24\"\n",
              "       width=\"24px\">\n",
              "    <path d=\"M0 0h24v24H0V0z\" fill=\"none\"/>\n",
              "    <path d=\"M18.56 5.44l.94 2.06.94-2.06 2.06-.94-2.06-.94-.94-2.06-.94 2.06-2.06.94zm-11 1L8.5 8.5l.94-2.06 2.06-.94-2.06-.94L8.5 2.5l-.94 2.06-2.06.94zm10 10l.94 2.06.94-2.06 2.06-.94-2.06-.94-.94-2.06-.94 2.06-2.06.94z\"/><path d=\"M17.41 7.96l-1.37-1.37c-.4-.4-.92-.59-1.43-.59-.52 0-1.04.2-1.43.59L10.3 9.45l-7.72 7.72c-.78.78-.78 2.05 0 2.83L4 21.41c.39.39.9.59 1.41.59.51 0 1.02-.2 1.41-.59l7.78-7.78 2.81-2.81c.8-.78.8-2.07 0-2.86zM5.41 20L4 18.59l7.72-7.72 1.47 1.35L5.41 20z\"/>\n",
              "  </svg>\n",
              "      </button>\n",
              "      \n",
              "  <style>\n",
              "    .colab-df-container {\n",
              "      display:flex;\n",
              "      flex-wrap:wrap;\n",
              "      gap: 12px;\n",
              "    }\n",
              "\n",
              "    .colab-df-convert {\n",
              "      background-color: #E8F0FE;\n",
              "      border: none;\n",
              "      border-radius: 50%;\n",
              "      cursor: pointer;\n",
              "      display: none;\n",
              "      fill: #1967D2;\n",
              "      height: 32px;\n",
              "      padding: 0 0 0 0;\n",
              "      width: 32px;\n",
              "    }\n",
              "\n",
              "    .colab-df-convert:hover {\n",
              "      background-color: #E2EBFA;\n",
              "      box-shadow: 0px 1px 2px rgba(60, 64, 67, 0.3), 0px 1px 3px 1px rgba(60, 64, 67, 0.15);\n",
              "      fill: #174EA6;\n",
              "    }\n",
              "\n",
              "    [theme=dark] .colab-df-convert {\n",
              "      background-color: #3B4455;\n",
              "      fill: #D2E3FC;\n",
              "    }\n",
              "\n",
              "    [theme=dark] .colab-df-convert:hover {\n",
              "      background-color: #434B5C;\n",
              "      box-shadow: 0px 1px 3px 1px rgba(0, 0, 0, 0.15);\n",
              "      filter: drop-shadow(0px 1px 2px rgba(0, 0, 0, 0.3));\n",
              "      fill: #FFFFFF;\n",
              "    }\n",
              "  </style>\n",
              "\n",
              "      <script>\n",
              "        const buttonEl =\n",
              "          document.querySelector('#df-1f460cdd-9fbd-4f28-bd51-a8ed4926f008 button.colab-df-convert');\n",
              "        buttonEl.style.display =\n",
              "          google.colab.kernel.accessAllowed ? 'block' : 'none';\n",
              "\n",
              "        async function convertToInteractive(key) {\n",
              "          const element = document.querySelector('#df-1f460cdd-9fbd-4f28-bd51-a8ed4926f008');\n",
              "          const dataTable =\n",
              "            await google.colab.kernel.invokeFunction('convertToInteractive',\n",
              "                                                     [key], {});\n",
              "          if (!dataTable) return;\n",
              "\n",
              "          const docLinkHtml = 'Like what you see? Visit the ' +\n",
              "            '<a target=\"_blank\" href=https://colab.research.google.com/notebooks/data_table.ipynb>data table notebook</a>'\n",
              "            + ' to learn more about interactive tables.';\n",
              "          element.innerHTML = '';\n",
              "          dataTable['output_type'] = 'display_data';\n",
              "          await google.colab.output.renderOutput(dataTable, element);\n",
              "          const docLink = document.createElement('div');\n",
              "          docLink.innerHTML = docLinkHtml;\n",
              "          element.appendChild(docLink);\n",
              "        }\n",
              "      </script>\n",
              "    </div>\n",
              "  </div>\n",
              "  "
            ]
          },
          "metadata": {},
          "execution_count": 29
        }
      ]
    },
    {
      "cell_type": "code",
      "source": [
        "submission1=submission.copy() #wihout preprocessing"
      ],
      "metadata": {
        "id": "rSTibg01Koek"
      },
      "execution_count": 30,
      "outputs": []
    },
    {
      "cell_type": "code",
      "source": [
        "#submission1.to_csv(r\"submission.csv\", index=False)"
      ],
      "metadata": {
        "id": "rwWGOJ9-GU9_"
      },
      "execution_count": 33,
      "outputs": []
    },
    {
      "cell_type": "code",
      "source": [],
      "metadata": {
        "id": "esfCJHfkl74s"
      },
      "execution_count": null,
      "outputs": []
    }
  ]
}