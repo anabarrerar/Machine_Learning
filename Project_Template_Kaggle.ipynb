{
  "nbformat": 4,
  "nbformat_minor": 0,
  "metadata": {
    "colab": {
      "provenance": [],
      "authorship_tag": "ABX9TyPL2skWg6Mo1ILiDpuMgtmE",
      "include_colab_link": true
    },
    "kernelspec": {
      "name": "python3",
      "display_name": "Python 3"
    },
    "language_info": {
      "name": "python"
    }
  },
  "cells": [
    {
      "cell_type": "markdown",
      "metadata": {
        "id": "view-in-github",
        "colab_type": "text"
      },
      "source": [
        "<a href=\"https://colab.research.google.com/github/anabarrerar/Machine_Learning/blob/main/Project_Template_Kaggle.ipynb\" target=\"_parent\"><img src=\"https://colab.research.google.com/assets/colab-badge.svg\" alt=\"Open In Colab\"/></a>"
      ]
    },
    {
      "cell_type": "markdown",
      "source": [
        "## Authentication of the user with the Kaggle API"
      ],
      "metadata": {
        "id": "P2oAFj08t-Tu"
      }
    },
    {
      "cell_type": "code",
      "execution_count": null,
      "metadata": {
        "colab": {
          "base_uri": "https://localhost:8080/"
        },
        "id": "Ar-KnKvv7wSu",
        "outputId": "a7e2db21-fe16-4cdd-b56f-9fb0efcc3272"
      },
      "outputs": [
        {
          "output_type": "execute_result",
          "data": {
            "text/plain": [
              "'/content'"
            ],
            "application/vnd.google.colaboratory.intrinsic+json": {
              "type": "string"
            }
          },
          "metadata": {},
          "execution_count": 1
        }
      ],
      "source": [
        "%pwd"
      ]
    },
    {
      "cell_type": "code",
      "source": [
        "!pip install -q kaggle #kaggle"
      ],
      "metadata": {
        "id": "C1k-GNV5zB_W"
      },
      "execution_count": null,
      "outputs": []
    },
    {
      "cell_type": "code",
      "source": [
        "import os\n",
        "\n",
        "def authenticate_kaggle(key_path):\n",
        "    # Mount your Google Drive to Colab\n",
        "    from google.colab import drive\n",
        "    drive.mount('/content/drive')\n",
        "\n",
        "    # Copy the Kaggle API key from your Drive to the .kaggle directory in your Drive\n",
        "    !mkdir -p /root/.kaggle\n",
        "    !cp '{key_path}/kaggle.json' /root/.kaggle/\n",
        "\n",
        "    # Set the permissions for the Kaggle API key\n",
        "    !chmod 600 /root/.kaggle/kaggle.json\n",
        "\n",
        "    # Authenticate with the Kaggle API\n",
        "    os.environ['KAGGLE_CONFIG_DIR'] = \"/root/.kaggle\"\n",
        "\n",
        "    if os.environ.get('KAGGLE_CONFIG_DIR') == \"/root/.kaggle\":\n",
        "        print('Authenticated with Kaggle API')"
      ],
      "metadata": {
        "id": "knvNEnNN7x2S"
      },
      "execution_count": null,
      "outputs": []
    },
    {
      "cell_type": "code",
      "source": [
        "key_path = \"/content/drive/MyDrive/Colab Notebooks\"\n",
        "\n",
        "authenticate_kaggle(key_path)"
      ],
      "metadata": {
        "colab": {
          "base_uri": "https://localhost:8080/"
        },
        "id": "Ec-yIrkG78rT",
        "outputId": "06881209-88f2-44b5-8a4c-96d34f31a3a8"
      },
      "execution_count": null,
      "outputs": [
        {
          "output_type": "stream",
          "name": "stdout",
          "text": [
            "Mounted at /content/drive\n",
            "Authenticated with Kaggle API\n"
          ]
        }
      ]
    },
    {
      "cell_type": "code",
      "source": [
        "#! kaggle competitions download -c icr-identify-age-related-conditions"
      ],
      "metadata": {
        "id": "tOhOgemf0cNn"
      },
      "execution_count": null,
      "outputs": []
    },
    {
      "cell_type": "markdown",
      "source": [
        "#Install dependencies\n"
      ],
      "metadata": {
        "id": "IvU00YmRxj_7"
      }
    },
    {
      "cell_type": "code",
      "source": [
        "#!pip install dataprep -q "
      ],
      "metadata": {
        "id": "cR_ZlTfrx6vK"
      },
      "execution_count": null,
      "outputs": []
    },
    {
      "cell_type": "markdown",
      "source": [
        "# Import dependencies\n",
        "\n",
        "\n"
      ],
      "metadata": {
        "id": "FBARIOPDx_TQ"
      }
    },
    {
      "cell_type": "code",
      "source": [
        "#Importing other packages \n",
        "import pandas as pd\n",
        "import numpy as np\n",
        "import seaborn as sns\n",
        "import matplotlib.pyplot as plt\n",
        "\n",
        "#Importing machine learning algorithms\n",
        "from sklearn.linear_model import LinearRegression\n",
        "from sklearn.neighbors import KNeighborsRegressor\n",
        "from sklearn.svm import SVR\n",
        "\n",
        "#Importing packages for machine learning operations\n",
        "from sklearn import preprocessing\n",
        "from sklearn.model_selection import train_test_split, GridSearchCV\n",
        "from sklearn.metrics import accuracy_score, recall_score, precision_score, roc_auc_score\n",
        "from sklearn.model_selection import StratifiedKFold\n",
        "\n",
        "\n",
        "import warnings\n",
        "warnings.filterwarnings('ignore')"
      ],
      "metadata": {
        "id": "P4AIMrE4yEZS"
      },
      "execution_count": 2,
      "outputs": []
    },
    {
      "cell_type": "markdown",
      "source": [
        "# Directory manipulation"
      ],
      "metadata": {
        "id": "ENcgRSfoyxvo"
      }
    },
    {
      "cell_type": "code",
      "source": [
        "%pwd"
      ],
      "metadata": {
        "id": "1Fdovfh2yyEY"
      },
      "execution_count": null,
      "outputs": []
    },
    {
      "cell_type": "markdown",
      "source": [
        "# Project Description"
      ],
      "metadata": {
        "id": "eqqG2xfZy3Zr"
      }
    },
    {
      "cell_type": "markdown",
      "source": [
        "# Data Understanding"
      ],
      "metadata": {
        "id": "pG4j9UQ_y9fv"
      }
    },
    {
      "cell_type": "markdown",
      "source": [
        "#Data Preprocessing"
      ],
      "metadata": {
        "id": "VkVzZ-LIy9iX"
      }
    },
    {
      "cell_type": "markdown",
      "source": [
        "# Modeling"
      ],
      "metadata": {
        "id": "IN8ICtEtzG2X"
      }
    },
    {
      "cell_type": "markdown",
      "source": [
        "# Assessment"
      ],
      "metadata": {
        "id": "oWlU0xAEzIWd"
      }
    },
    {
      "cell_type": "markdown",
      "source": [
        "# Validation"
      ],
      "metadata": {
        "id": "fklAQmv2zJ5t"
      }
    }
  ]
}